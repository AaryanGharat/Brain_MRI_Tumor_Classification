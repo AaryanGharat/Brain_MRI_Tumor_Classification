{
 "cells": [
  {
   "cell_type": "code",
   "execution_count": 1,
   "id": "5d2689cf-7231-4866-8ee3-d1f3a7ca4d40",
   "metadata": {
    "collapsed": true,
    "jupyter": {
     "outputs_hidden": true
    },
    "tags": []
   },
   "outputs": [],
   "source": [
    "import os\n",
    "pwd=os.getcwd()\n",
    "path=os.path.join(pwd,'dataset').replace('\\\\','/')\n",
    "filepath=os.path.join(path,'brain_tumor_dataset').replace('\\\\','/')\n",
    "import warnings\n",
    "warnings.filterwarnings(\"ignore\")\n",
    "warnings.filterwarnings('ignore', message='The name tf.losses.sparse_softmax_cross_entropy is deprecated.*')"
   ]
  },
  {
   "cell_type": "code",
   "execution_count": 2,
   "id": "97fa8d53-4ead-49ae-9009-9fd0a1d47963",
   "metadata": {
    "collapsed": true,
    "jupyter": {
     "outputs_hidden": true
    },
    "tags": []
   },
   "outputs": [],
   "source": [
    "import numpy as np\n",
    "import matplotlib.pyplot as plt\n",
    "import cv2\n",
    "import shutil\n",
    "import matplotlib.image as mpimg\n",
    "import seaborn as sns\n",
    "plt.style.use('ggplot')"
   ]
  },
  {
   "cell_type": "code",
   "execution_count": 3,
   "id": "0ad530c6-a58a-478a-8c88-ab78c590b5b5",
   "metadata": {
    "collapsed": true,
    "jupyter": {
     "outputs_hidden": true
    },
    "tags": []
   },
   "outputs": [
    {
     "name": "stdout",
     "output_type": "stream",
     "text": [
      "All files are renamed in the No\n",
      "All files are renamed in the yes\n"
     ]
    }
   ],
   "source": [
    "\n",
    "folder = os.path.join(filepath, 'no/').replace('\\\\', '/')\n",
    "count = 1\n",
    "\n",
    "for filename in os.listdir(folder):\n",
    "    source = folder + filename\n",
    "    destination = folder + \"N_\" + str(count) + \".jpg\"\n",
    "    if not os.path.exists(destination):  # Check if the destination file already exists\n",
    "        os.rename(source, destination)\n",
    "        count += 1\n",
    "\n",
    "print(\"All files are renamed in the No\")\n",
    "\n",
    "# Renaming files in the 'yes' folder\n",
    "folder = os.path.join(filepath, 'yes/').replace('\\\\', '/')\n",
    "count = 1\n",
    "\n",
    "for filename in os.listdir(folder):\n",
    "    source = folder + filename\n",
    "    destination = folder + \"Y_\" + str(count) + \".jpg\"\n",
    "    if not os.path.exists(destination):  # Check if the destination file already exists\n",
    "        os.rename(source, destination)\n",
    "        count += 1\n",
    "\n",
    "print(\"All files are renamed in the yes\")"
   ]
  },
  {
   "cell_type": "markdown",
   "id": "1735af1a-a264-4daf-ac0f-2d3c194f8d69",
   "metadata": {},
   "source": [
    "Exploratory Data Analysis"
   ]
  },
  {
   "cell_type": "code",
   "execution_count": 4,
   "id": "482a7ab9-a09c-4a43-8ee5-931d96b61dad",
   "metadata": {
    "collapsed": true,
    "jupyter": {
     "outputs_hidden": true
    }
   },
   "outputs": [
    {
     "name": "stdout",
     "output_type": "stream",
     "text": [
      "155\n",
      "98\n"
     ]
    }
   ],
   "source": [
    "brain_tumor_data_yes=os.path.join(filepath,'yes/').replace('\\\\','/')\n",
    "listyes=os.listdir(brain_tumor_data_yes)\n",
    "number_files_yes=len(listyes)\n",
    "print(number_files_yes)\n",
    "\n",
    "brain_tumor_data_no=os.path.join(filepath,'no/').replace('\\\\','/')\n",
    "listno=os.listdir(brain_tumor_data_no)\n",
    "number_files_no=len(listno)\n",
    "print(number_files_no)\n"
   ]
  },
  {
   "cell_type": "code",
   "execution_count": 5,
   "id": "b5841b9d-08fc-41d0-8862-e358b4ddfd07",
   "metadata": {
    "collapsed": true,
    "jupyter": {
     "outputs_hidden": true
    },
    "tags": []
   },
   "outputs": [],
   "source": [
    "# Plot"
   ]
  },
  {
   "cell_type": "code",
   "execution_count": 6,
   "id": "b8d1536e-1185-4cb8-9ff3-fb6307ae5d1f",
   "metadata": {
    "collapsed": true,
    "jupyter": {
     "outputs_hidden": true
    },
    "tags": []
   },
   "outputs": [
    {
     "data": {
      "image/png": "[encoded data removed]",
      "text/plain": [
       "<Figure size 500x700 with 1 Axes>"
      ]
     },
     "metadata": {},
     "output_type": "display_data"
    }
   ],
   "source": [
    "data={'tumorus':number_files_yes,'non-tumorous':number_files_no}\n",
    "types=data.keys()\n",
    "values=data.values()\n",
    "fig=plt.figure(figsize=(5,7))\n",
    "plt.bar(types,values,color=\"blue\")\n",
    "plt.xlabel(\"Data\")\n",
    "plt.ylabel(\"No of Brain mri images\")\n",
    "plt.title(\"Count of Brain Tumor Images\")\n",
    "plt.show()\n"
   ]
  },
  {
   "cell_type": "code",
   "execution_count": 7,
   "id": "0ac0ce2d-f629-4b4f-b932-482fa5de8215",
   "metadata": {
    "collapsed": true,
    "jupyter": {
     "outputs_hidden": true
    },
    "tags": []
   },
   "outputs": [],
   "source": [
    "#Data Augmentation"
   ]
  },
  {
   "cell_type": "code",
   "execution_count": 8,
   "id": "3a0d0693-b121-455f-8ebe-abd16abc2dc7",
   "metadata": {
    "collapsed": true,
    "jupyter": {
     "outputs_hidden": true
    },
    "tags": []
   },
   "outputs": [],
   "source": [
    "#155(61%),98(39%)\n",
    "#imbalance"
   ]
  },
  {
   "cell_type": "code",
   "execution_count": 9,
   "id": "2a6710d6-9cb0-4c64-859b-092972f34a2a",
   "metadata": {
    "collapsed": true,
    "jupyter": {
     "outputs_hidden": true
    },
    "tags": []
   },
   "outputs": [
    {
     "name": "stdout",
     "output_type": "stream",
     "text": [
      "WARNING:tensorflow:From C:\\Users\\wwwaa\\anaconda3\\envs\\abc\\Lib\\site-packages\\keras\\src\\losses.py:2976: The name tf.losses.sparse_softmax_cross_entropy is deprecated. Please use tf.compat.v1.losses.sparse_softmax_cross_entropy instead.\n",
      "\n"
     ]
    }
   ],
   "source": [
    "import tensorflow as tf\n",
    "from tensorflow.keras.preprocessing.image import ImageDataGenerator\n",
    "from tensorflow.keras.models import Model\n",
    "from tensorflow.keras.layers import Flatten,Dense,Dropout\n",
    "from tensorflow.keras.applications.vgg19 import VGG19\n",
    "from tensorflow.keras.optimizers import SGD,Adam\n",
    "from tensorflow.keras.callbacks import ModelCheckpoint,EarlyStopping,ReduceLROnPlateau"
   ]
  },
  {
   "cell_type": "code",
   "execution_count": 10,
   "id": "a5036914-3c02-4a2d-91d6-2c35edacf2ca",
   "metadata": {
    "collapsed": true,
    "jupyter": {
     "outputs_hidden": true
    },
    "tags": []
   },
   "outputs": [],
   "source": [
    "#N,width,height,channel"
   ]
  },
  {
   "cell_type": "code",
   "execution_count": 11,
   "id": "44e34581-d43b-4519-9be9-df317857788c",
   "metadata": {
    "collapsed": true,
    "jupyter": {
     "outputs_hidden": true
    },
    "tags": []
   },
   "outputs": [],
   "source": [
    "def timing(sec_elapsed):\n",
    "    h=int(sec_elapsed/(60*60))\n",
    "    m=int(sec_elapsed%(60*60)/60)\n",
    "    s=sec_elapsed%60\n",
    "    \n",
    "    return f\"{h}:{m}:{s}\""
   ]
  },
  {
   "cell_type": "code",
   "execution_count": 12,
   "id": "bcf374e5-e511-43f1-adc1-30fede0774df",
   "metadata": {
    "collapsed": true,
    "jupyter": {
     "outputs_hidden": true
    },
    "tags": []
   },
   "outputs": [],
   "source": [
    "def augmented_data(file_dir,n_generated_samples,save_to_dir):\n",
    "    data_gen=ImageDataGenerator(rotation_range=10,\n",
    "                      width_shift_range=0.1,\n",
    "                      height_shift_range=0.1,\n",
    "                      shear_range=0.1,\n",
    "                      brightness_range=(0.3,0.1),\n",
    "                      horizontal_flip=True,\n",
    "                       vertical_flip=True,\n",
    "                       fill_mode='nearest')\n",
    "    for filename in os.listdir(file_dir):\n",
    "        image=cv2.imread(file_dir+'/'+filename)\n",
    "        image=image.reshape((1,)+image.shape)\n",
    "        save_prefix='aug_'+filename[:-4]\n",
    "        i=0\n",
    "        for batch in data_gen.flow(x=image,batch_size=1,save_to_dir=save_to_dir,save_prefix=save_prefix,save_format=\"jpg\"):\n",
    "            i+=1\n",
    "            if i>n_generated_samples:\n",
    "                break\n",
    "        "
   ]
  },
  {
   "cell_type": "code",
   "execution_count": 13,
   "id": "29f56dab-6cfc-40c1-9a89-8dc6fae22edc",
   "metadata": {
    "collapsed": true,
    "jupyter": {
     "outputs_hidden": true
    },
    "tags": []
   },
   "outputs": [
    {
     "name": "stdout",
     "output_type": "stream",
     "text": [
      "0:1:15.021972179412842\n"
     ]
    }
   ],
   "source": [
    "import time\n",
    "start_time=time.time()\n",
    "augmented_data_path=os.path.join(pwd,'dataset/augmented_data/').replace('\\\\','/')\n",
    "augmented_data(file_dir=brain_tumor_data_yes,n_generated_samples=6,save_to_dir=augmented_data_path+'yes')\n",
    "augmented_data(file_dir=brain_tumor_data_no,n_generated_samples=9,save_to_dir=augmented_data_path+'no')\n",
    "end_time=time.time()\n",
    "execution_time=end_time-start_time\n",
    "print(timing(execution_time))"
   ]
  },
  {
   "cell_type": "code",
   "execution_count": 14,
   "id": "d256ae05-abd6-4f04-acf3-2ac9c7eca425",
   "metadata": {
    "collapsed": true,
    "jupyter": {
     "outputs_hidden": true
    },
    "tags": []
   },
   "outputs": [],
   "source": [
    "def data_summary(main_path):\n",
    "    yes_path=brain_tumor_data_yes\n",
    "    no_path=brain_tumor_data_no\n",
    "    \n",
    "    m_pos=len(os.listdir(yes_path))\n",
    "    m_neg=len(os.listdir(no_path))    \n",
    "    \n",
    "    m=(m_pos +m_neg)\n",
    "    pos_per=(m_pos*100)/m\n",
    "    neg_per=(m_neg*100)/m\n",
    "    \n",
    "    print(f\"No of sample {m}\")\n",
    "    print(f\"{m_pos}No of positive sample in percentage {pos_per}%\")\n",
    "    print(f\"{m_neg}No of negative sample in percentage {neg_per}%\")    "
   ]
  },
  {
   "cell_type": "code",
   "execution_count": 15,
   "id": "9644fbe2-29ab-49d1-9c3a-fc476fb2eced",
   "metadata": {
    "collapsed": true,
    "jupyter": {
     "outputs_hidden": true
    },
    "tags": []
   },
   "outputs": [
    {
     "name": "stdout",
     "output_type": "stream",
     "text": [
      "No of sample 253\n",
      "155No of positive sample in percentage 61.26482213438735%\n",
      "98No of negative sample in percentage 38.73517786561265%\n"
     ]
    }
   ],
   "source": [
    "data_summary(augmented_data_path)"
   ]
  },
  {
   "cell_type": "code",
   "execution_count": 16,
   "id": "f0a25359-af38-49f4-99d1-26bdf4f98b7d",
   "metadata": {
    "collapsed": true,
    "jupyter": {
     "outputs_hidden": true
    },
    "tags": []
   },
   "outputs": [
    {
     "name": "stdout",
     "output_type": "stream",
     "text": [
      "4337\n",
      "3913\n"
     ]
    },
    {
     "data": {
      "image/png": "[encoded data removed]",
      "text/plain": [
       "<Figure size 500x700 with 1 Axes>"
      ]
     },
     "metadata": {},
     "output_type": "display_data"
    }
   ],
   "source": [
    "brain_tumor_data_yes=os.path.join(augmented_data_path,'yes/').replace('\\\\','/')\n",
    "listyes=os.listdir(brain_tumor_data_yes)\n",
    "number_files_yes=len(listyes)\n",
    "print(number_files_yes)\n",
    "\n",
    "brain_tumor_data_no=os.path.join(augmented_data_path,'no/').replace('\\\\','/')\n",
    "listno=os.listdir(brain_tumor_data_no)\n",
    "number_files_no=len(listno)\n",
    "print(number_files_no)\n",
    "data={'tumorus':number_files_yes,'non-tumorous':number_files_no}\n",
    "types=data.keys()\n",
    "values=data.values()\n",
    "fig=plt.figure(figsize=(5,7))\n",
    "plt.bar(types,values,color=\"blue\")\n",
    "plt.xlabel(\"Data\")\n",
    "plt.ylabel(\"No of Brain mri images\")\n",
    "plt.title(\"Count of Brain Tumor Images\")\n",
    "plt.show()\n"
   ]
  },
  {
   "cell_type": "code",
   "execution_count": 17,
   "id": "9c5bb81c-217f-45ba-a23e-867c594d6df5",
   "metadata": {
    "collapsed": true,
    "jupyter": {
     "outputs_hidden": true
    },
    "tags": []
   },
   "outputs": [],
   "source": [
    "#Data Preprocessing"
   ]
  },
  {
   "cell_type": "code",
   "execution_count": 18,
   "id": "f9998fbc-772f-4e34-b336-ab0fa2c61727",
   "metadata": {
    "collapsed": true,
    "jupyter": {
     "outputs_hidden": true
    },
    "tags": []
   },
   "outputs": [],
   "source": [
    "#Convert BGR to GRAV\n",
    "#GaussianBLUR\n",
    "#Threshold\n",
    "#Erode\n",
    "#Dilate\n",
    "#Find Contours"
   ]
  },
  {
   "cell_type": "code",
   "execution_count": 19,
   "id": "ff05a83d-82eb-4e21-a25b-1300fc20c419",
   "metadata": {
    "collapsed": true,
    "jupyter": {
     "outputs_hidden": true
    },
    "tags": []
   },
   "outputs": [],
   "source": [
    "import imutils"
   ]
  },
  {
   "cell_type": "code",
   "execution_count": 20,
   "id": "129bb0f6-0168-46a9-b1b4-3055bd88877e",
   "metadata": {
    "collapsed": true,
    "jupyter": {
     "outputs_hidden": true
    },
    "tags": []
   },
   "outputs": [],
   "source": [
    "import cv2\n",
    "import imutils\n",
    "import matplotlib.pyplot as plt\n",
    "\n",
    "def crop_brain_tumor(image, plot=False):\n",
    "    gray = cv2.cvtColor(image, cv2.COLOR_BGR2GRAY)\n",
    "    gray = cv2.GaussianBlur(gray, (5, 5), 0)\n",
    "    \n",
    "    thres = cv2.threshold(gray, 45, 255, cv2.THRESH_BINARY)[1]\n",
    "    thres = cv2.erode(thres, None, iterations=2)\n",
    "    thres = cv2.dilate(thres, None, iterations=2)\n",
    "    cnts = cv2.findContours(thres.copy(), cv2.RETR_EXTERNAL, cv2.CHAIN_APPROX_SIMPLE)\n",
    "    cnts = imutils.grab_contours(cnts)\n",
    "    c = max(cnts, key=cv2.contourArea)\n",
    "    \n",
    "    extLeft = tuple(c[c[:, :, 0].argmin()][0])\n",
    "    extRight = tuple(c[c[:, :, 0].argmax()][0])\n",
    "    extTop = tuple(c[c[:, :, 1].argmin()][0])\n",
    "    extBot = tuple(c[c[:, :, 1].argmax()][0])\n",
    "    \n",
    "    new_image = image[extTop[1]:extBot[1], extLeft[0]:extRight[0]]\n",
    "    \n",
    "    if plot:\n",
    "        plt.figure()\n",
    "        plt.subplot(1, 3, 1)\n",
    "        plt.imshow(cv2.cvtColor(image, cv2.COLOR_BGR2RGB))\n",
    "        plt.title('Original Image')\n",
    "        plt.axis('off')\n",
    "        \n",
    "        plt.subplot(1, 3, 2)\n",
    "        plt.imshow(thres, cmap='gray')\n",
    "        plt.title('Thresholded Image')\n",
    "        plt.axis('off')\n",
    "        \n",
    "        plt.subplot(1, 3, 3)\n",
    "        plt.imshow(cv2.cvtColor(new_image, cv2.COLOR_BGR2RGB))\n",
    "        plt.title('Cropped Image')\n",
    "        plt.axis('off')\n",
    "        \n",
    "        plt.show()\n",
    "    \n",
    "    return new_image\n"
   ]
  },
  {
   "cell_type": "code",
   "execution_count": 21,
   "id": "c5b4d5a9-1dd7-4f56-b096-a13f42f2a41e",
   "metadata": {
    "collapsed": true,
    "jupyter": {
     "outputs_hidden": true
    }
   },
   "outputs": [
    {
     "data": {
      "image/png": "[encoded data removed]",
      "text/plain": [
       "<Figure size 640x480 with 3 Axes>"
      ]
     },
     "metadata": {},
     "output_type": "display_data"
    },
    {
     "data": {
      "text/plain": [
       "array([[[0, 0, 0],\n",
       "        [0, 0, 0],\n",
       "        [0, 0, 0],\n",
       "        ...,\n",
       "        [0, 0, 0],\n",
       "        [0, 0, 0],\n",
       "        [0, 0, 0]],\n",
       "\n",
       "       [[0, 0, 0],\n",
       "        [0, 0, 0],\n",
       "        [0, 0, 0],\n",
       "        ...,\n",
       "        [0, 0, 0],\n",
       "        [0, 0, 0],\n",
       "        [0, 0, 0]],\n",
       "\n",
       "       [[0, 0, 0],\n",
       "        [0, 0, 0],\n",
       "        [0, 0, 0],\n",
       "        ...,\n",
       "        [0, 0, 0],\n",
       "        [0, 0, 0],\n",
       "        [0, 0, 0]],\n",
       "\n",
       "       ...,\n",
       "\n",
       "       [[0, 0, 0],\n",
       "        [0, 0, 0],\n",
       "        [0, 0, 0],\n",
       "        ...,\n",
       "        [0, 0, 0],\n",
       "        [0, 0, 0],\n",
       "        [0, 0, 0]],\n",
       "\n",
       "       [[0, 0, 0],\n",
       "        [0, 0, 0],\n",
       "        [0, 0, 0],\n",
       "        ...,\n",
       "        [0, 0, 0],\n",
       "        [0, 0, 0],\n",
       "        [0, 0, 0]],\n",
       "\n",
       "       [[0, 0, 0],\n",
       "        [0, 0, 0],\n",
       "        [0, 0, 0],\n",
       "        ...,\n",
       "        [0, 0, 0],\n",
       "        [0, 0, 0],\n",
       "        [0, 0, 0]]], dtype=uint8)"
      ]
     },
     "execution_count": 21,
     "metadata": {},
     "output_type": "execute_result"
    }
   ],
   "source": [
    "sample_path=os.path.join(augmented_data_path,'yes/aug_Y_10_0_2210.jpg').replace('\\\\','/')\n",
    "img=cv2.imread(sample_path)\n",
    "crop_brain_tumor(img,True)"
   ]
  },
  {
   "cell_type": "code",
   "execution_count": 22,
   "id": "60593bda-38fb-4917-a6d9-ddbe7c117d18",
   "metadata": {
    "collapsed": true,
    "jupyter": {
     "outputs_hidden": true
    },
    "tags": []
   },
   "outputs": [],
   "source": [
    "augmented_data_path\n",
    "augmented_yes=os.path.join(augmented_data_path,'yes').replace('\\\\','/')\n",
    "augmented_no=os.path.join(augmented_data_path,'no').replace('\\\\','/')"
   ]
  },
  {
   "cell_type": "code",
   "execution_count": 23,
   "id": "cece9e7a-5f8d-4e3f-a8b3-552448dd375c",
   "metadata": {
    "collapsed": true,
    "jupyter": {
     "outputs_hidden": true
    },
    "tags": []
   },
   "outputs": [],
   "source": [
    "folder1=augmented_no\n",
    "folder2=augmented_yes\n",
    "\n",
    "for filename in os.listdir(folder1):\n",
    "    if filename.endswith(\".jpg\") or filename.endswith(\".png\"):  # Adjust file extensions as needed\n",
    "        img_path = os.path.join(folder1, filename)\n",
    "        img = cv2.imread(img_path)\n",
    "        if img is not None:\n",
    "            img = crop_brain_tumor(img, False)\n",
    "            cv2.imwrite(os.path.join(folder1, filename), img)\n",
    "        else:\n",
    "            print(\"Error reading:\", img_path)\n",
    "\n",
    "\n",
    "for filename in os.listdir(folder2):\n",
    "    if filename.endswith(\".jpg\") or filename.endswith(\".png\"):  # Adjust file extensions as needed\n",
    "        img_path = os.path.join(folder2, filename)\n",
    "        img = cv2.imread(img_path)\n",
    "        if img is not None:\n",
    "            img = crop_brain_tumor(img, False)\n",
    "            cv2.imwrite(os.path.join(folder2, filename), img)\n",
    "        else:\n",
    "            print(\"Error reading:\", img_path)"
   ]
  },
  {
   "cell_type": "code",
   "execution_count": 24,
   "id": "067dbfd6-bb77-4d96-8592-4d7c8778c222",
   "metadata": {
    "collapsed": true,
    "jupyter": {
     "outputs_hidden": true
    },
    "tags": []
   },
   "outputs": [],
   "source": [
    "from sklearn.utils import shuffle\n",
    "def load_data(dir_list,image_size):\n",
    "    X=[]\n",
    "    y=[]\n",
    "    image_width,image_height=image_size\n",
    "    for directory in dir_list:\n",
    "        for filename in os.listdir(directory):\n",
    "            image=cv2.imread(directory +'/'+filename)\n",
    "            image=crop_brain_tumor(image,plot=False)\n",
    "            image=cv2.resize(image,dsize=(image_width,image_height),interpolation=cv2.INTER_CUBIC)\n",
    "            image=image/255.00\n",
    "            X.append(image)\n",
    "            if directory[-3:]==\"yes\":\n",
    "                y.append(1)\n",
    "            else:\n",
    "                y.append(0)\n",
    "    X=np.array(X)\n",
    "    y=np.array(y)\n",
    "    X,y=shuffle(X,y)\n",
    "    print(f\"Number of example is {len(X)}\")\n",
    "    print(f\"X SHAPE is {X.shape}\")\n",
    "    print(f\"Y SHAPE is {y.shape}\")\n",
    "    return X,y"
   ]
  },
  {
   "cell_type": "code",
   "execution_count": 25,
   "id": "933330ff-e9e9-446f-8dfb-b11944d1a82f",
   "metadata": {
    "collapsed": true,
    "jupyter": {
     "outputs_hidden": true
    },
    "tags": []
   },
   "outputs": [
    {
     "name": "stdout",
     "output_type": "stream",
     "text": [
      "Number of example is 8250\n",
      "X SHAPE is (8250, 240, 240, 3)\n",
      "Y SHAPE is (8250,)\n"
     ]
    }
   ],
   "source": [
    "IMAGE_WIDTH,IMAGE_HEIGHT=(240,240)\n",
    "X,y =load_data([augmented_yes,augmented_no],(IMAGE_WIDTH,IMAGE_HEIGHT))"
   ]
  },
  {
   "cell_type": "code",
   "execution_count": 26,
   "id": "cd35733a-332d-4426-944a-1b33b6daf623",
   "metadata": {
    "collapsed": true,
    "jupyter": {
     "outputs_hidden": true
    },
    "tags": []
   },
   "outputs": [],
   "source": [
    "#Data splitting"
   ]
  },
  {
   "cell_type": "code",
   "execution_count": 27,
   "id": "4155ab4e-587e-45d5-bb27-54d784a3bbb9",
   "metadata": {
    "collapsed": true,
    "jupyter": {
     "outputs_hidden": true
    },
    "tags": []
   },
   "outputs": [],
   "source": [
    "base_dir_path=os.path.join(path,'tumorous_and_nontumorous').replace('\\\\','/')"
   ]
  },
  {
   "cell_type": "code",
   "execution_count": 28,
   "id": "210c5c1b-ce01-4582-b3af-7cb229b320fd",
   "metadata": {
    "collapsed": true,
    "jupyter": {
     "outputs_hidden": true
    },
    "tags": []
   },
   "outputs": [],
   "source": [
    "if not os.path.isdir(base_dir_path):\n",
    "    base_dir=base_dir_path\n",
    "    os.mkdir(base_dir)"
   ]
  },
  {
   "cell_type": "code",
   "execution_count": 29,
   "id": "791c76b1-1684-4a51-8e12-d8caec7495a4",
   "metadata": {
    "collapsed": true,
    "jupyter": {
     "outputs_hidden": true
    },
    "tags": []
   },
   "outputs": [],
   "source": [
    "if not os.path.isdir('tumorous_and_nontumorous/train'):\n",
    "    train_dir=os.path.join(base_dir,'train').replace('\\\\','/')\n",
    "    os.mkdir(train_dir)\n",
    "if not os.path.isdir('tumorous_and_nontumorous/test'):\n",
    "    test_dir=os.path.join(base_dir,'test').replace('\\\\','/')\n",
    "    os.mkdir(test_dir)\n",
    "if not os.path.isdir('tumorous_and_nontumorous/valid'):\n",
    "    valid_dir=os.path.join(base_dir,'valid').replace('\\\\','/')\n",
    "    os.mkdir(valid_dir)"
   ]
  },
  {
   "cell_type": "code",
   "execution_count": 30,
   "id": "4abd34e7-a98e-4afb-b81e-26fa3fff5db2",
   "metadata": {
    "collapsed": true,
    "jupyter": {
     "outputs_hidden": true
    },
    "tags": []
   },
   "outputs": [],
   "source": [
    "if not os.path.isdir('tumorous_and_nontumorous/train/tumorous'):\n",
    "    infected_train_dir=os.path.join(train_dir,'tumorous').replace('\\\\','/')\n",
    "    os.mkdir(infected_train_dir)\n",
    "if not os.path.isdir('tumorous_and_nontumorous/train/nontumorous'):\n",
    "    healthy_train_dir=os.path.join(train_dir,'nontumorous').replace('\\\\','/')\n",
    "    os.mkdir(healthy_train_dir)\n",
    "    \n",
    "if not os.path.isdir('tumorous_and_nontumorous/test/tumorous'):\n",
    "    infected_test_dir=os.path.join(test_dir,'tumorous').replace('\\\\','/')\n",
    "    os.mkdir(infected_test_dir)\n",
    "if not os.path.isdir('tumorous_and_nontumorous/test/nontumorous'):\n",
    "    healthy_test_dir=os.path.join(test_dir,'nontumorous').replace('\\\\','/')\n",
    "    os.mkdir(healthy_test_dir)\n",
    "    \n",
    "if not os.path.isdir('tumorous_and_nontumorous/valid/tumorous'):\n",
    "    infected_valid_dir=os.path.join(valid_dir,'tumorous').replace('\\\\','/')\n",
    "    os.mkdir(infected_valid_dir)\n",
    "if not os.path.isdir('tumorous_and_nontumorous/valid/nontumorous'):\n",
    "    healthy_valid_dir=os.path.join(valid_dir,'nontumorous').replace('\\\\','/')\n",
    "    os.mkdir(healthy_valid_dir)"
   ]
  },
  {
   "cell_type": "code",
   "execution_count": 31,
   "id": "1c9cbfe1-fe5d-4cee-8c14-d3504e535511",
   "metadata": {
    "collapsed": true,
    "jupyter": {
     "outputs_hidden": true
    },
    "tags": []
   },
   "outputs": [],
   "source": [
    "original_dataset_tumorous=os.path.join(augmented_data_path,\"yes/\").replace('\\\\','/')\n",
    "original_dataset_nontumorous=os.path.join(augmented_data_path,\"no/\").replace('\\\\','/')"
   ]
  },
  {
   "cell_type": "code",
   "execution_count": 32,
   "id": "d9048ca2-b5fe-42be-a1dd-3e02eba4d153",
   "metadata": {
    "collapsed": true,
    "jupyter": {
     "outputs_hidden": true
    },
    "tags": []
   },
   "outputs": [],
   "source": [
    "files=os.listdir(original_dataset_tumorous)\n",
    "fnames=[]\n",
    "for i in range(0,759):\n",
    "    fnames.append(files[i])\n",
    "for fname in fnames:\n",
    "    src=os.path.join(original_dataset_tumorous,fname).replace('\\\\','/')\n",
    "    dst=os.path.join(infected_train_dir,fname).replace('\\\\','/')\n",
    "    shutil.copyfile(src,dst)"
   ]
  },
  {
   "cell_type": "code",
   "execution_count": 33,
   "id": "9c70f3dc-da0a-4e4d-9259-1c5e2131ac9c",
   "metadata": {
    "collapsed": true,
    "jupyter": {
     "outputs_hidden": true
    },
    "tags": []
   },
   "outputs": [],
   "source": [
    "files=os.listdir(original_dataset_tumorous)\n",
    "fnames=[]\n",
    "for i in range(759,922):\n",
    "    fnames.append(files[i])\n",
    "for fname in fnames:\n",
    "    src=os.path.join(original_dataset_tumorous,fname).replace('\\\\','/')\n",
    "    dst=os.path.join(infected_test_dir,fname).replace('\\\\','/')\n",
    "    shutil.copyfile(src,dst)"
   ]
  },
  {
   "cell_type": "code",
   "execution_count": 34,
   "id": "2249ca78-e7e8-417e-8c59-a46815ef162c",
   "metadata": {
    "collapsed": true,
    "jupyter": {
     "outputs_hidden": true
    },
    "tags": []
   },
   "outputs": [],
   "source": [
    "files=os.listdir(original_dataset_tumorous)\n",
    "fnames=[]\n",
    "for i in range(922,1085):\n",
    "    fnames.append(files[i])\n",
    "for fname in fnames:\n",
    "    src=os.path.join(original_dataset_tumorous,fname).replace('\\\\','/')\n",
    "    dst=os.path.join(infected_valid_dir,fname).replace('\\\\','/')\n",
    "    shutil.copyfile(src,dst)"
   ]
  },
  {
   "cell_type": "code",
   "execution_count": 35,
   "id": "d6e732d0-8c22-4731-90d2-d9891aa2f106",
   "metadata": {
    "collapsed": true,
    "jupyter": {
     "outputs_hidden": true
    },
    "tags": []
   },
   "outputs": [
    {
     "data": {
      "text/plain": [
       "102"
      ]
     },
     "execution_count": 35,
     "metadata": {},
     "output_type": "execute_result"
    }
   ],
   "source": [
    "len(infected_train_dir)"
   ]
  },
  {
   "cell_type": "code",
   "execution_count": 36,
   "id": "ca6ade1f-0303-4daf-95c0-6ee1517ff40d",
   "metadata": {
    "collapsed": true,
    "jupyter": {
     "outputs_hidden": true
    },
    "tags": []
   },
   "outputs": [],
   "source": [
    "files=os.listdir(original_dataset_nontumorous)\n",
    "fnames=[]\n",
    "for i in range(0,686):\n",
    "    fnames.append(files[i])\n",
    "for fname in fnames:\n",
    "    src=os.path.join(original_dataset_nontumorous,fname).replace('\\\\','/')\n",
    "    dst=os.path.join(healthy_train_dir,fname).replace('\\\\','/')\n",
    "    shutil.copyfile(src,dst)"
   ]
  },
  {
   "cell_type": "code",
   "execution_count": 37,
   "id": "eab5acd9-e4a1-4f66-9b92-e17092e709df",
   "metadata": {
    "collapsed": true,
    "jupyter": {
     "outputs_hidden": true
    },
    "tags": []
   },
   "outputs": [],
   "source": [
    "files=os.listdir(original_dataset_nontumorous)\n",
    "fnames=[]\n",
    "for i in range(686,833):\n",
    "    fnames.append(files[i])\n",
    "for fname in fnames:\n",
    "    src=os.path.join(original_dataset_nontumorous,fname).replace('\\\\','/')\n",
    "    dst=os.path.join(healthy_test_dir,fname).replace('\\\\','/')\n",
    "    shutil.copyfile(src,dst)"
   ]
  },
  {
   "cell_type": "code",
   "execution_count": 38,
   "id": "3c2aa4e6-8dab-45c6-a6ab-3c10774f053c",
   "metadata": {
    "collapsed": true,
    "jupyter": {
     "outputs_hidden": true
    },
    "tags": []
   },
   "outputs": [],
   "source": [
    "files=os.listdir(original_dataset_nontumorous)\n",
    "fnames=[]\n",
    "for i in range(833,979):\n",
    "    fnames.append(files[i])\n",
    "for fname in fnames:\n",
    "    src=os.path.join(original_dataset_nontumorous,fname).replace('\\\\','/')\n",
    "    dst=os.path.join(healthy_valid_dir,fname).replace('\\\\','/')\n",
    "    shutil.copyfile(src,dst)"
   ]
  },
  {
   "cell_type": "code",
   "execution_count": 39,
   "id": "e8c607c8-71ca-429d-9b5f-cd5d90af57e9",
   "metadata": {
    "collapsed": true,
    "jupyter": {
     "outputs_hidden": true
    },
    "tags": []
   },
   "outputs": [],
   "source": [
    "#model building"
   ]
  },
  {
   "cell_type": "code",
   "execution_count": 40,
   "id": "beba4d38-8551-4357-b802-3d9bbaf53a12",
   "metadata": {
    "collapsed": true,
    "jupyter": {
     "outputs_hidden": true
    },
    "tags": []
   },
   "outputs": [],
   "source": [
    "train_datagen=ImageDataGenerator(rescale=1.0/255,\n",
    "                                 horizontal_flip=0.4,\n",
    "                                 vertical_flip=0.4,\n",
    "                                 rotation_range=40,\n",
    "                                 shear_range=0.2,\n",
    "                                 width_shift_range=0.4,\n",
    "                                 height_shift_range=0.4,\n",
    "                                fill_mode='nearest')\n",
    "test_datagen=ImageDataGenerator(rescale=1.0/255)\n",
    "valid_datagen=ImageDataGenerator(rescale=1.0/255)"
   ]
  },
  {
   "cell_type": "code",
   "execution_count": 41,
   "id": "c788b00d-fada-4133-b335-d239b0ef8a14",
   "metadata": {
    "collapsed": true,
    "jupyter": {
     "outputs_hidden": true
    },
    "tags": []
   },
   "outputs": [
    {
     "name": "stdout",
     "output_type": "stream",
     "text": [
      "Found 1445 images belonging to 2 classes.\n"
     ]
    }
   ],
   "source": [
    "train_generator=train_datagen.flow_from_directory(train_dir,batch_size=32,target_size=(240,240),class_mode='categorical',shuffle=True,seed=42,color_mode='rgb')\n"
   ]
  },
  {
   "cell_type": "code",
   "execution_count": 42,
   "id": "c91f4280-eda0-43f5-afa4-01aba9df3d67",
   "metadata": {
    "collapsed": true,
    "jupyter": {
     "outputs_hidden": true
    },
    "tags": []
   },
   "outputs": [
    {
     "name": "stdout",
     "output_type": "stream",
     "text": [
      "Found 310 images belonging to 2 classes.\n"
     ]
    }
   ],
   "source": [
    "test_generator=train_datagen.flow_from_directory(test_dir,batch_size=32,target_size=(240,240),class_mode='categorical',shuffle=True,seed=42,color_mode='rgb')\n"
   ]
  },
  {
   "cell_type": "code",
   "execution_count": 43,
   "id": "01a64ead-4730-4d90-8fc7-4a1e95354d74",
   "metadata": {
    "collapsed": true,
    "jupyter": {
     "outputs_hidden": true
    },
    "tags": []
   },
   "outputs": [
    {
     "name": "stdout",
     "output_type": "stream",
     "text": [
      "Found 309 images belonging to 2 classes.\n"
     ]
    }
   ],
   "source": [
    "valid_generator=train_datagen.flow_from_directory(valid_dir,batch_size=32,target_size=(240,240),class_mode='categorical',shuffle=True,seed=42,color_mode='rgb')\n"
   ]
  },
  {
   "cell_type": "code",
   "execution_count": 44,
   "id": "31f28a2e-1fa4-4f5e-bd9c-6265dd40f7e1",
   "metadata": {
    "collapsed": true,
    "jupyter": {
     "outputs_hidden": true
    },
    "tags": []
   },
   "outputs": [],
   "source": [
    "class_labels=train_generator.class_indices\n",
    "class_name={value:key for (key,value) in class_labels.items()}"
   ]
  },
  {
   "cell_type": "code",
   "execution_count": 45,
   "id": "1d5e9a76-20f1-403b-87d8-de7b127ecf5b",
   "metadata": {
    "collapsed": true,
    "jupyter": {
     "outputs_hidden": true
    },
    "tags": []
   },
   "outputs": [
    {
     "data": {
      "text/plain": [
       "{0: 'nontumorous', 1: 'tumorous'}"
      ]
     },
     "execution_count": 45,
     "metadata": {},
     "output_type": "execute_result"
    }
   ],
   "source": [
    "class_name"
   ]
  },
  {
   "cell_type": "code",
   "execution_count": 46,
   "id": "82883c38-ac16-47c4-bdef-2225720be8d0",
   "metadata": {
    "collapsed": true,
    "jupyter": {
     "outputs_hidden": true
    },
    "tags": []
   },
   "outputs": [
    {
     "name": "stdout",
     "output_type": "stream",
     "text": [
      "WARNING:tensorflow:From C:\\Users\\wwwaa\\anaconda3\\envs\\abc\\Lib\\site-packages\\keras\\src\\backend.py:1398: The name tf.executing_eagerly_outside_functions is deprecated. Please use tf.compat.v1.executing_eagerly_outside_functions instead.\n",
      "\n",
      "WARNING:tensorflow:From C:\\Users\\wwwaa\\anaconda3\\envs\\abc\\Lib\\site-packages\\keras\\src\\layers\\pooling\\max_pooling2d.py:161: The name tf.nn.max_pool is deprecated. Please use tf.nn.max_pool2d instead.\n",
      "\n",
      "Model: \"model\"\n",
      "_________________________________________________________________\n",
      " Layer (type)                Output Shape              Param #   \n",
      "=================================================================\n",
      " input_1 (InputLayer)        [(None, 240, 240, 3)]     0         \n",
      "                                                                 \n",
      " block1_conv1 (Conv2D)       (None, 240, 240, 64)      1792      \n",
      "                                                                 \n",
      " block1_conv2 (Conv2D)       (None, 240, 240, 64)      36928     \n",
      "                                                                 \n",
      " block1_pool (MaxPooling2D)  (None, 120, 120, 64)      0         \n",
      "                                                                 \n",
      " block2_conv1 (Conv2D)       (None, 120, 120, 128)     73856     \n",
      "                                                                 \n",
      " block2_conv2 (Conv2D)       (None, 120, 120, 128)     147584    \n",
      "                                                                 \n",
      " block2_pool (MaxPooling2D)  (None, 60, 60, 128)       0         \n",
      "                                                                 \n",
      " block3_conv1 (Conv2D)       (None, 60, 60, 256)       295168    \n",
      "                                                                 \n",
      " block3_conv2 (Conv2D)       (None, 60, 60, 256)       590080    \n",
      "                                                                 \n",
      " block3_conv3 (Conv2D)       (None, 60, 60, 256)       590080    \n",
      "                                                                 \n",
      " block3_conv4 (Conv2D)       (None, 60, 60, 256)       590080    \n",
      "                                                                 \n",
      " block3_pool (MaxPooling2D)  (None, 30, 30, 256)       0         \n",
      "                                                                 \n",
      " block4_conv1 (Conv2D)       (None, 30, 30, 512)       1180160   \n",
      "                                                                 \n",
      " block4_conv2 (Conv2D)       (None, 30, 30, 512)       2359808   \n",
      "                                                                 \n",
      " block4_conv3 (Conv2D)       (None, 30, 30, 512)       2359808   \n",
      "                                                                 \n",
      " block4_conv4 (Conv2D)       (None, 30, 30, 512)       2359808   \n",
      "                                                                 \n",
      " block4_pool (MaxPooling2D)  (None, 15, 15, 512)       0         \n",
      "                                                                 \n",
      " block5_conv1 (Conv2D)       (None, 15, 15, 512)       2359808   \n",
      "                                                                 \n",
      " block5_conv2 (Conv2D)       (None, 15, 15, 512)       2359808   \n",
      "                                                                 \n",
      " block5_conv3 (Conv2D)       (None, 15, 15, 512)       2359808   \n",
      "                                                                 \n",
      " block5_conv4 (Conv2D)       (None, 15, 15, 512)       2359808   \n",
      "                                                                 \n",
      " block5_pool (MaxPooling2D)  (None, 7, 7, 512)         0         \n",
      "                                                                 \n",
      " flatten (Flatten)           (None, 25088)             0         \n",
      "                                                                 \n",
      " dense (Dense)               (None, 4608)              115610112 \n",
      "                                                                 \n",
      " dropout (Dropout)           (None, 4608)              0         \n",
      "                                                                 \n",
      " dense_1 (Dense)             (None, 1152)              5309568   \n",
      "                                                                 \n",
      " dense_2 (Dense)             (None, 2)                 2306      \n",
      "                                                                 \n",
      "=================================================================\n",
      "Total params: 140946370 (537.67 MB)\n",
      "Trainable params: 120921986 (461.28 MB)\n",
      "Non-trainable params: 20024384 (76.39 MB)\n",
      "_________________________________________________________________\n"
     ]
    }
   ],
   "source": [
    "base_model=VGG19(input_shape=(240,240,3),include_top=False,weights='imagenet')\n",
    "for layer in base_model.layers:\n",
    "    layer.trainable=False\n",
    "x=base_model.output\n",
    "flat=Flatten()(x)\n",
    "\n",
    "class_1=Dense(4608,activation='relu')(flat)\n",
    "drop_out=Dropout(0.2)(class_1)\n",
    "class_2=Dense(1152,activation='relu')(drop_out)\n",
    "output=Dense(2,activation='softmax')(class_2)\n",
    "\n",
    "model_01=Model(base_model.input,output)\n",
    "model_01.summary()"
   ]
  },
  {
   "cell_type": "code",
   "execution_count": 47,
   "id": "dc3b834c-dda7-4bc4-b761-48d6cafc64f1",
   "metadata": {
    "collapsed": true,
    "jupyter": {
     "outputs_hidden": true
    },
    "tags": []
   },
   "outputs": [],
   "source": [
    "modelpath=path\n",
    "modelpath\n",
    "es=EarlyStopping(monitor='val_loss',verbose=1, mode='min',patience=4)\n",
    "cp=ModelCheckpoint(modelpath,monitor='val_loss',verbose=1,save_best_only=True,save_weight_only=False,  mode='auto',save_freq='epoch')\n",
    "lrr=ReduceLROnPlateau(monitor='val_accuracy',patience=3,verbose=1,factor=0.5,min_lr=0.0001)\n"
   ]
  },
  {
   "cell_type": "code",
   "execution_count": 48,
   "id": "113fdcb0-8a23-4557-a646-76cf107ddd20",
   "metadata": {
    "collapsed": true,
    "jupyter": {
     "outputs_hidden": true
    },
    "tags": []
   },
   "outputs": [],
   "source": [
    "from keras.optimizers import Adam\n",
    "\n",
    "adam = Adam(learning_rate=0.0001)\n",
    "model_01.compile(loss='categorical_crossentropy', optimizer=adam, metrics=['accuracy'])\n"
   ]
  },
  {
   "cell_type": "code",
   "execution_count": 49,
   "id": "a9b57dba-7f74-4479-a333-de2bef70d024",
   "metadata": {
    "collapsed": true,
    "jupyter": {
     "outputs_hidden": true
    },
    "tags": []
   },
   "outputs": [
    {
     "name": "stdout",
     "output_type": "stream",
     "text": [
      "Epoch 1/20\n",
      "WARNING:tensorflow:From C:\\Users\\wwwaa\\anaconda3\\envs\\abc\\Lib\\site-packages\\keras\\src\\utils\\tf_utils.py:492: The name tf.ragged.RaggedTensorValue is deprecated. Please use tf.compat.v1.ragged.RaggedTensorValue instead.\n",
      "\n",
      "WARNING:tensorflow:From C:\\Users\\wwwaa\\anaconda3\\envs\\abc\\Lib\\site-packages\\keras\\src\\engine\\base_layer_utils.py:384: The name tf.executing_eagerly_outside_functions is deprecated. Please use tf.compat.v1.executing_eagerly_outside_functions instead.\n",
      "\n",
      "10/10 [==============================] - ETA: 0s - loss: 2.4058 - accuracy: 0.4875\n",
      "Epoch 1: val_loss improved from inf to 1.15231, saving model to C:/Users/wwwaa/ml/6 days 6 project/Brain MRI detection\\dataset\n",
      "INFO:tensorflow:Assets written to: C:/Users/wwwaa/ml/6 days 6 project/Brain MRI detection\\dataset\\assets\n"
     ]
    },
    {
     "name": "stderr",
     "output_type": "stream",
     "text": [
      "INFO:tensorflow:Assets written to: C:/Users/wwwaa/ml/6 days 6 project/Brain MRI detection\\dataset\\assets\n"
     ]
    },
    {
     "name": "stdout",
     "output_type": "stream",
     "text": [
      "10/10 [==============================] - 93s 10s/step - loss: 2.4058 - accuracy: 0.4875 - val_loss: 1.1523 - val_accuracy: 0.4725 - lr: 1.0000e-04\n",
      "Epoch 2/20\n",
      "10/10 [==============================] - ETA: 0s - loss: 0.7598 - accuracy: 0.5875\n",
      "Epoch 2: val_loss improved from 1.15231 to 0.63566, saving model to C:/Users/wwwaa/ml/6 days 6 project/Brain MRI detection\\dataset\n",
      "INFO:tensorflow:Assets written to: C:/Users/wwwaa/ml/6 days 6 project/Brain MRI detection\\dataset\\assets\n"
     ]
    },
    {
     "name": "stderr",
     "output_type": "stream",
     "text": [
      "INFO:tensorflow:Assets written to: C:/Users/wwwaa/ml/6 days 6 project/Brain MRI detection\\dataset\\assets\n"
     ]
    },
    {
     "name": "stdout",
     "output_type": "stream",
     "text": [
      "10/10 [==============================] - 93s 10s/step - loss: 0.7598 - accuracy: 0.5875 - val_loss: 0.6357 - val_accuracy: 0.6214 - lr: 1.0000e-04\n",
      "Epoch 3/20\n",
      "10/10 [==============================] - ETA: 0s - loss: 0.6687 - accuracy: 0.6075\n",
      "Epoch 3: val_loss did not improve from 0.63566\n",
      "10/10 [==============================] - 76s 8s/step - loss: 0.6687 - accuracy: 0.6075 - val_loss: 0.7012 - val_accuracy: 0.5663 - lr: 1.0000e-04\n",
      "Epoch 4/20\n",
      "10/10 [==============================] - ETA: 0s - loss: 0.5760 - accuracy: 0.7000\n",
      "Epoch 4: val_loss improved from 0.63566 to 0.59595, saving model to C:/Users/wwwaa/ml/6 days 6 project/Brain MRI detection\\dataset\n",
      "INFO:tensorflow:Assets written to: C:/Users/wwwaa/ml/6 days 6 project/Brain MRI detection\\dataset\\assets\n"
     ]
    },
    {
     "name": "stderr",
     "output_type": "stream",
     "text": [
      "INFO:tensorflow:Assets written to: C:/Users/wwwaa/ml/6 days 6 project/Brain MRI detection\\dataset\\assets\n"
     ]
    },
    {
     "name": "stdout",
     "output_type": "stream",
     "text": [
      "10/10 [==============================] - 89s 9s/step - loss: 0.5760 - accuracy: 0.7000 - val_loss: 0.5960 - val_accuracy: 0.6699 - lr: 1.0000e-04\n",
      "Epoch 5/20\n",
      "10/10 [==============================] - ETA: 0s - loss: 0.5899 - accuracy: 0.7000\n",
      "Epoch 5: val_loss improved from 0.59595 to 0.46333, saving model to C:/Users/wwwaa/ml/6 days 6 project/Brain MRI detection\\dataset\n",
      "INFO:tensorflow:Assets written to: C:/Users/wwwaa/ml/6 days 6 project/Brain MRI detection\\dataset\\assets\n"
     ]
    },
    {
     "name": "stderr",
     "output_type": "stream",
     "text": [
      "INFO:tensorflow:Assets written to: C:/Users/wwwaa/ml/6 days 6 project/Brain MRI detection\\dataset\\assets\n"
     ]
    },
    {
     "name": "stdout",
     "output_type": "stream",
     "text": [
      "10/10 [==============================] - 93s 10s/step - loss: 0.5899 - accuracy: 0.7000 - val_loss: 0.4633 - val_accuracy: 0.8026 - lr: 1.0000e-04\n",
      "Epoch 6/20\n",
      "10/10 [==============================] - ETA: 0s - loss: 0.5019 - accuracy: 0.7781\n",
      "Epoch 6: val_loss improved from 0.46333 to 0.39230, saving model to C:/Users/wwwaa/ml/6 days 6 project/Brain MRI detection\\dataset\n",
      "INFO:tensorflow:Assets written to: C:/Users/wwwaa/ml/6 days 6 project/Brain MRI detection\\dataset\\assets\n"
     ]
    },
    {
     "name": "stderr",
     "output_type": "stream",
     "text": [
      "INFO:tensorflow:Assets written to: C:/Users/wwwaa/ml/6 days 6 project/Brain MRI detection\\dataset\\assets\n"
     ]
    },
    {
     "name": "stdout",
     "output_type": "stream",
     "text": [
      "10/10 [==============================] - 93s 10s/step - loss: 0.5019 - accuracy: 0.7781 - val_loss: 0.3923 - val_accuracy: 0.8576 - lr: 1.0000e-04\n",
      "Epoch 7/20\n",
      "10/10 [==============================] - ETA: 0s - loss: 0.4665 - accuracy: 0.7844\n",
      "Epoch 7: val_loss improved from 0.39230 to 0.35207, saving model to C:/Users/wwwaa/ml/6 days 6 project/Brain MRI detection\\dataset\n",
      "INFO:tensorflow:Assets written to: C:/Users/wwwaa/ml/6 days 6 project/Brain MRI detection\\dataset\\assets\n"
     ]
    },
    {
     "name": "stderr",
     "output_type": "stream",
     "text": [
      "INFO:tensorflow:Assets written to: C:/Users/wwwaa/ml/6 days 6 project/Brain MRI detection\\dataset\\assets\n"
     ]
    },
    {
     "name": "stdout",
     "output_type": "stream",
     "text": [
      "10/10 [==============================] - 94s 10s/step - loss: 0.4665 - accuracy: 0.7844 - val_loss: 0.3521 - val_accuracy: 0.8770 - lr: 1.0000e-04\n",
      "Epoch 8/20\n",
      "10/10 [==============================] - ETA: 0s - loss: 0.4849 - accuracy: 0.7625\n",
      "Epoch 8: val_loss did not improve from 0.35207\n",
      "10/10 [==============================] - 84s 9s/step - loss: 0.4849 - accuracy: 0.7625 - val_loss: 0.3670 - val_accuracy: 0.8738 - lr: 1.0000e-04\n",
      "Epoch 9/20\n",
      "10/10 [==============================] - ETA: 0s - loss: 0.4746 - accuracy: 0.7625\n",
      "Epoch 9: val_loss did not improve from 0.35207\n",
      "10/10 [==============================] - 85s 9s/step - loss: 0.4746 - accuracy: 0.7625 - val_loss: 0.3893 - val_accuracy: 0.8673 - lr: 1.0000e-04\n",
      "Epoch 10/20\n",
      "10/10 [==============================] - ETA: 0s - loss: 0.4702 - accuracy: 0.7875\n",
      "Epoch 10: val_loss did not improve from 0.35207\n",
      "10/10 [==============================] - 82s 9s/step - loss: 0.4702 - accuracy: 0.7875 - val_loss: 0.3880 - val_accuracy: 0.8544 - lr: 1.0000e-04\n",
      "Epoch 11/20\n",
      "10/10 [==============================] - ETA: 0s - loss: 0.4080 - accuracy: 0.8000\n",
      "Epoch 11: val_loss did not improve from 0.35207\n",
      "10/10 [==============================] - 82s 9s/step - loss: 0.4080 - accuracy: 0.8000 - val_loss: 0.3761 - val_accuracy: 0.8479 - lr: 1.0000e-04\n",
      "Epoch 11: early stopping\n"
     ]
    }
   ],
   "source": [
    "history_01=model_01.fit(train_generator,steps_per_epoch=10,epochs=20,callbacks=[es,cp,lrr],validation_data=valid_generator)"
   ]
  },
  {
   "cell_type": "code",
   "execution_count": 51,
   "id": "c064464f-7aff-4179-8c7e-d8b18fc66134",
   "metadata": {
    "collapsed": true,
    "jupyter": {
     "outputs_hidden": true
    },
    "tags": []
   },
   "outputs": [],
   "source": [
    "if not os.path.isdir('model_weights/'):\n",
    "    os.mkdir('model_weights/')\n",
    "model_01.save_weights(filepath=\"model_weights/vgg19_model_01.h5\",overwrite=True)"
   ]
  },
  {
   "cell_type": "code",
   "execution_count": 52,
   "id": "c06df972-dc4e-45da-b7b6-333963e4ff0f",
   "metadata": {
    "collapsed": true,
    "jupyter": {
     "outputs_hidden": true
    },
    "tags": []
   },
   "outputs": [
    {
     "name": "stdout",
     "output_type": "stream",
     "text": [
      "10/10 [==============================] - 23s 2s/step - loss: 0.3751 - accuracy: 0.8576\n",
      "10/10 [==============================] - 24s 2s/step - loss: 0.4788 - accuracy: 0.7548\n"
     ]
    }
   ],
   "source": [
    "model_01.load_weights(\"model_weights/vgg19_model_01.h5\")\n",
    "vgg_val_eval_01=model_01.evaluate(valid_generator)\n",
    "vgg_test_eval_01=model_01.evaluate(test_generator)"
   ]
  },
  {
   "cell_type": "code",
   "execution_count": 57,
   "id": "bc270880-a1c5-4dd6-96d2-37e704dfc899",
   "metadata": {
    "collapsed": true,
    "jupyter": {
     "outputs_hidden": true
    },
    "tags": []
   },
   "outputs": [
    {
     "name": "stdout",
     "output_type": "stream",
     "text": [
      "Validation loss 0.37511003017425537\n",
      "Validation accuracy 0.8576051592826843\n",
      "Testing loss 0.47877901792526245\n",
      "Testing accuracy 0.7548387050628662\n"
     ]
    }
   ],
   "source": [
    "print(f'Validation loss {vgg_val_eval_01[0]}')\n",
    "print(f'Validation accuracy {vgg_val_eval_01[1]}')\n",
    "print(f'Testing loss {vgg_test_eval_01[0]}')\n",
    "print(f'Testing accuracy {vgg_test_eval_01[1]}')"
   ]
  },
  {
   "cell_type": "code",
   "execution_count": 59,
   "id": "6b48658d-2079-4160-b072-76a3f779ed77",
   "metadata": {
    "collapsed": true,
    "jupyter": {
     "outputs_hidden": true
    },
    "tags": []
   },
   "outputs": [
    {
     "name": "stdout",
     "output_type": "stream",
     "text": [
      " 10/310 [..............................] - ETA: 11:34WARNING:tensorflow:Your input ran out of data; interrupting training. Make sure that your dataset or generator can generate at least `steps_per_epoch * epochs` batches (in this case, 310 batches). You may need to use the repeat() function when building your dataset.\n"
     ]
    },
    {
     "name": "stderr",
     "output_type": "stream",
     "text": [
      "WARNING:tensorflow:Your input ran out of data; interrupting training. Make sure that your dataset or generator can generate at least `steps_per_epoch * epochs` batches (in this case, 310 batches). You may need to use the repeat() function when building your dataset.\n"
     ]
    },
    {
     "name": "stdout",
     "output_type": "stream",
     "text": [
      "310/310 [==============================] - 24s 68ms/step\n"
     ]
    }
   ],
   "source": [
    "filenames=test_generator.filenames\n",
    "nb_samples=len(filenames)\n",
    "\n",
    "vgg_prediction_01=model_01.predict(test_generator,steps=nb_samples,verbose=1)\n",
    "y_pred=np.argmax(vgg_prediction_01,axis=1)"
   ]
  },
  {
   "cell_type": "code",
   "execution_count": 61,
   "id": "5b806209-70ae-4f52-b4ec-9b795787d971",
   "metadata": {
    "collapsed": true,
    "jupyter": {
     "outputs_hidden": true
    },
    "tags": []
   },
   "outputs": [],
   "source": [
    "#incremental Unfreezing and fine tuning"
   ]
  },
  {
   "cell_type": "code",
   "execution_count": 65,
   "id": "287296de-9eb5-4c39-8983-abfe84346a88",
   "metadata": {
    "collapsed": true,
    "jupyter": {
     "outputs_hidden": true
    },
    "tags": []
   },
   "outputs": [
    {
     "data": {
      "text/plain": [
       "['input_5',\n",
       " 'block1_conv1',\n",
       " 'block1_conv2',\n",
       " 'block1_pool',\n",
       " 'block2_conv1',\n",
       " 'block2_conv2',\n",
       " 'block2_pool',\n",
       " 'block3_conv1',\n",
       " 'block3_conv2',\n",
       " 'block3_conv3',\n",
       " 'block3_conv4',\n",
       " 'block3_pool',\n",
       " 'block4_conv1',\n",
       " 'block4_conv2',\n",
       " 'block4_conv3',\n",
       " 'block4_conv4',\n",
       " 'block4_pool',\n",
       " 'block5_conv1',\n",
       " 'block5_conv2',\n",
       " 'block5_conv3',\n",
       " 'block5_conv4',\n",
       " 'block5_pool']"
      ]
     },
     "execution_count": 65,
     "metadata": {},
     "output_type": "execute_result"
    }
   ],
   "source": [
    "base_model=VGG19(include_top=False, input_shape=(240,240,3))\n",
    "base_model_layer_name=[layer.name for layer in base_model.layers]\n",
    "base_model_layer_name"
   ]
  },
  {
   "cell_type": "code",
   "execution_count": 67,
   "id": "24a5670f-3109-451c-bd0b-eacb3e5aa96f",
   "metadata": {
    "collapsed": true,
    "jupyter": {
     "outputs_hidden": true
    },
    "tags": []
   },
   "outputs": [
    {
     "name": "stdout",
     "output_type": "stream",
     "text": [
      "Model: \"model_3\"\n",
      "_________________________________________________________________\n",
      " Layer (type)                Output Shape              Param #   \n",
      "=================================================================\n",
      " input_5 (InputLayer)        [(None, 240, 240, 3)]     0         \n",
      "                                                                 \n",
      " block1_conv1 (Conv2D)       (None, 240, 240, 64)      1792      \n",
      "                                                                 \n",
      " block1_conv2 (Conv2D)       (None, 240, 240, 64)      36928     \n",
      "                                                                 \n",
      " block1_pool (MaxPooling2D)  (None, 120, 120, 64)      0         \n",
      "                                                                 \n",
      " block2_conv1 (Conv2D)       (None, 120, 120, 128)     73856     \n",
      "                                                                 \n",
      " block2_conv2 (Conv2D)       (None, 120, 120, 128)     147584    \n",
      "                                                                 \n",
      " block2_pool (MaxPooling2D)  (None, 60, 60, 128)       0         \n",
      "                                                                 \n",
      " block3_conv1 (Conv2D)       (None, 60, 60, 256)       295168    \n",
      "                                                                 \n",
      " block3_conv2 (Conv2D)       (None, 60, 60, 256)       590080    \n",
      "                                                                 \n",
      " block3_conv3 (Conv2D)       (None, 60, 60, 256)       590080    \n",
      "                                                                 \n",
      " block3_conv4 (Conv2D)       (None, 60, 60, 256)       590080    \n",
      "                                                                 \n",
      " block3_pool (MaxPooling2D)  (None, 30, 30, 256)       0         \n",
      "                                                                 \n",
      " block4_conv1 (Conv2D)       (None, 30, 30, 512)       1180160   \n",
      "                                                                 \n",
      " block4_conv2 (Conv2D)       (None, 30, 30, 512)       2359808   \n",
      "                                                                 \n",
      " block4_conv3 (Conv2D)       (None, 30, 30, 512)       2359808   \n",
      "                                                                 \n",
      " block4_conv4 (Conv2D)       (None, 30, 30, 512)       2359808   \n",
      "                                                                 \n",
      " block4_pool (MaxPooling2D)  (None, 15, 15, 512)       0         \n",
      "                                                                 \n",
      " block5_conv1 (Conv2D)       (None, 15, 15, 512)       2359808   \n",
      "                                                                 \n",
      " block5_conv2 (Conv2D)       (None, 15, 15, 512)       2359808   \n",
      "                                                                 \n",
      " block5_conv3 (Conv2D)       (None, 15, 15, 512)       2359808   \n",
      "                                                                 \n",
      " block5_conv4 (Conv2D)       (None, 15, 15, 512)       2359808   \n",
      "                                                                 \n",
      " block5_pool (MaxPooling2D)  (None, 7, 7, 512)         0         \n",
      "                                                                 \n",
      " flatten_3 (Flatten)         (None, 25088)             0         \n",
      "                                                                 \n",
      " dense_9 (Dense)             (None, 4608)              115610112 \n",
      "                                                                 \n",
      " dropout_3 (Dropout)         (None, 4608)              0         \n",
      "                                                                 \n",
      " dense_10 (Dense)            (None, 1152)              5309568   \n",
      "                                                                 \n",
      " dense_11 (Dense)            (None, 2)                 2306      \n",
      "                                                                 \n",
      "=================================================================\n",
      "Total params: 140946370 (537.67 MB)\n",
      "Trainable params: 140946370 (537.67 MB)\n",
      "Non-trainable params: 0 (0.00 Byte)\n",
      "_________________________________________________________________\n"
     ]
    }
   ],
   "source": [
    "\n",
    "x=base_model.output\n",
    "flat=Flatten()(x)\n",
    "\n",
    "class_1=Dense(4608,activation='relu')(flat)\n",
    "drop_out=Dropout(0.2)(class_1)\n",
    "class_2=Dense(1152,activation='relu')(drop_out)\n",
    "output=Dense(2,activation='softmax')(class_2)\n",
    "\n",
    "model_02=Model(base_model.input,output)\n",
    "model_02.load_weights('model_weights/vgg19_model_01.h5')\n",
    "\n",
    "set_trainable=False\n",
    "for layers in base_model.layers:\n",
    "    if layer.name in ['block5_conv4','block5_conv3']:\n",
    "        set_trainable=True\n",
    "    if set_trainable:\n",
    "        layer.trainable=True\n",
    "    else:\n",
    "         layer.trainable=False\n",
    "model_02.summary()"
   ]
  },
  {
   "cell_type": "code",
   "execution_count": 68,
   "id": "4edd7f64-699b-447c-9811-3f8789af9589",
   "metadata": {
    "collapsed": true,
    "jupyter": {
     "outputs_hidden": true
    },
    "tags": []
   },
   "outputs": [],
   "source": [
    "from keras.optimizers import Adam\n",
    "\n",
    "adam = Adam(learning_rate=0.0001)\n",
    "model_02.compile(loss='categorical_crossentropy', optimizer=adam, metrics=['accuracy'])\n"
   ]
  },
  {
   "cell_type": "code",
   "execution_count": 69,
   "id": "82e6efdd-7a30-41a1-80b7-ed9663d722b7",
   "metadata": {
    "collapsed": true,
    "jupyter": {
     "outputs_hidden": true
    },
    "tags": []
   },
   "outputs": [
    {
     "name": "stdout",
     "output_type": "stream",
     "text": [
      "Epoch 1/20\n",
      "10/10 [==============================] - ETA: 0s - loss: 1.3062 - accuracy: 0.5781\n",
      "Epoch 1: val_loss did not improve from 0.35207\n",
      "10/10 [==============================] - 116s 12s/step - loss: 1.3062 - accuracy: 0.5781 - val_loss: 0.7348 - val_accuracy: 0.5275 - lr: 1.0000e-04\n",
      "Epoch 2/20\n",
      "10/10 [==============================] - ETA: 0s - loss: 0.7052 - accuracy: 0.5219\n",
      "Epoch 2: val_loss did not improve from 0.35207\n",
      "10/10 [==============================] - 115s 12s/step - loss: 0.7052 - accuracy: 0.5219 - val_loss: 0.6928 - val_accuracy: 0.5469 - lr: 1.0000e-04\n",
      "Epoch 3/20\n",
      "10/10 [==============================] - ETA: 0s - loss: 0.6951 - accuracy: 0.5125\n",
      "Epoch 3: val_loss did not improve from 0.35207\n",
      "10/10 [==============================] - 115s 12s/step - loss: 0.6951 - accuracy: 0.5125 - val_loss: 0.7214 - val_accuracy: 0.4725 - lr: 1.0000e-04\n",
      "Epoch 4/20\n",
      "10/10 [==============================] - ETA: 0s - loss: 0.6962 - accuracy: 0.5406\n",
      "Epoch 4: val_loss did not improve from 0.35207\n",
      "10/10 [==============================] - 116s 12s/step - loss: 0.6962 - accuracy: 0.5406 - val_loss: 0.6987 - val_accuracy: 0.5275 - lr: 1.0000e-04\n",
      "Epoch 5/20\n",
      "10/10 [==============================] - ETA: 0s - loss: 0.6972 - accuracy: 0.5063\n",
      "Epoch 5: val_loss did not improve from 0.35207\n",
      "10/10 [==============================] - 117s 12s/step - loss: 0.6972 - accuracy: 0.5063 - val_loss: 0.6905 - val_accuracy: 0.5275 - lr: 1.0000e-04\n",
      "Epoch 6/20\n",
      "10/10 [==============================] - ETA: 0s - loss: 0.6898 - accuracy: 0.5375\n",
      "Epoch 6: val_loss did not improve from 0.35207\n",
      "10/10 [==============================] - 117s 12s/step - loss: 0.6898 - accuracy: 0.5375 - val_loss: 0.6901 - val_accuracy: 0.5275 - lr: 1.0000e-04\n",
      "Epoch 7/20\n",
      "10/10 [==============================] - ETA: 0s - loss: 0.6896 - accuracy: 0.5281\n",
      "Epoch 7: val_loss did not improve from 0.35207\n",
      "10/10 [==============================] - 117s 12s/step - loss: 0.6896 - accuracy: 0.5281 - val_loss: 0.6899 - val_accuracy: 0.5275 - lr: 1.0000e-04\n",
      "Epoch 8/20\n",
      "10/10 [==============================] - ETA: 0s - loss: 0.6972 - accuracy: 0.5188\n",
      "Epoch 8: val_loss did not improve from 0.35207\n",
      "10/10 [==============================] - 109s 11s/step - loss: 0.6972 - accuracy: 0.5188 - val_loss: 0.6928 - val_accuracy: 0.5275 - lr: 1.0000e-04\n",
      "Epoch 9/20\n",
      "10/10 [==============================] - ETA: 0s - loss: 0.6944 - accuracy: 0.5427\n",
      "Epoch 9: val_loss did not improve from 0.35207\n",
      "10/10 [==============================] - 112s 11s/step - loss: 0.6944 - accuracy: 0.5427 - val_loss: 0.6901 - val_accuracy: 0.5275 - lr: 1.0000e-04\n",
      "Epoch 10/20\n",
      "10/10 [==============================] - ETA: 0s - loss: 0.6863 - accuracy: 0.5562\n",
      "Epoch 10: val_loss did not improve from 0.35207\n",
      "10/10 [==============================] - 118s 12s/step - loss: 0.6863 - accuracy: 0.5562 - val_loss: 0.6879 - val_accuracy: 0.5275 - lr: 1.0000e-04\n",
      "Epoch 11/20\n",
      "10/10 [==============================] - ETA: 0s - loss: 0.6924 - accuracy: 0.5125\n",
      "Epoch 11: val_loss did not improve from 0.35207\n",
      "10/10 [==============================] - 114s 12s/step - loss: 0.6924 - accuracy: 0.5125 - val_loss: 0.6929 - val_accuracy: 0.5275 - lr: 1.0000e-04\n",
      "Epoch 12/20\n",
      "10/10 [==============================] - ETA: 0s - loss: 0.6929 - accuracy: 0.5188\n",
      "Epoch 12: val_loss did not improve from 0.35207\n",
      "10/10 [==============================] - 111s 11s/step - loss: 0.6929 - accuracy: 0.5188 - val_loss: 0.6928 - val_accuracy: 0.5275 - lr: 1.0000e-04\n",
      "Epoch 13/20\n",
      "10/10 [==============================] - ETA: 0s - loss: 0.6930 - accuracy: 0.5125\n",
      "Epoch 13: val_loss did not improve from 0.35207\n",
      "10/10 [==============================] - 112s 11s/step - loss: 0.6930 - accuracy: 0.5125 - val_loss: 0.6927 - val_accuracy: 0.5275 - lr: 1.0000e-04\n",
      "Epoch 14/20\n",
      "10/10 [==============================] - ETA: 0s - loss: 0.6926 - accuracy: 0.5281\n",
      "Epoch 14: val_loss did not improve from 0.35207\n",
      "10/10 [==============================] - 112s 11s/step - loss: 0.6926 - accuracy: 0.5281 - val_loss: 0.6925 - val_accuracy: 0.5275 - lr: 1.0000e-04\n",
      "Epoch 14: early stopping\n"
     ]
    }
   ],
   "source": [
    "history_02=model_02.fit(train_generator,steps_per_epoch=10,epochs=20,callbacks=[es,cp,lrr],validation_data=valid_generator)"
   ]
  },
  {
   "cell_type": "code",
   "execution_count": 70,
   "id": "4646457f-6f64-4023-b6a2-11d1fdfb6ee5",
   "metadata": {
    "collapsed": true,
    "jupyter": {
     "outputs_hidden": true
    },
    "tags": []
   },
   "outputs": [],
   "source": [
    "if not os.path.isdir('model_weights/'):\n",
    "    os.mkdir('model_weights/')\n",
    "model_01.save_weights(filepath=\"model_weights/vgg19_model_02.h5\",overwrite=True)"
   ]
  },
  {
   "cell_type": "code",
   "execution_count": 71,
   "id": "245b96f8-74eb-4797-b51b-ab3cb3354df2",
   "metadata": {
    "collapsed": true,
    "jupyter": {
     "outputs_hidden": true
    },
    "tags": []
   },
   "outputs": [
    {
     "name": "stdout",
     "output_type": "stream",
     "text": [
      "10/10 [==============================] - 27s 3s/step - loss: 0.8252 - accuracy: 0.5275\n",
      "10/10 [==============================] - 26s 3s/step - loss: 0.8253 - accuracy: 0.5258\n"
     ]
    }
   ],
   "source": [
    "model_02.load_weights(\"model_weights/vgg19_model_02.h5\")\n",
    "vgg_val_eval_02=model_02.evaluate(valid_generator)\n",
    "vgg_test_eval_02=model_02.evaluate(test_generator)"
   ]
  },
  {
   "cell_type": "code",
   "execution_count": 72,
   "id": "9d6e3ad5-6c7c-456f-8b36-28be9f6cd5ce",
   "metadata": {
    "collapsed": true,
    "jupyter": {
     "outputs_hidden": true
    },
    "tags": []
   },
   "outputs": [
    {
     "name": "stdout",
     "output_type": "stream",
     "text": [
      "Validation loss 0.8251752853393555\n",
      "Validation accuracy 0.5275080800056458\n",
      "Testing loss 0.8253223896026611\n",
      "Testing accuracy 0.5258064270019531\n"
     ]
    }
   ],
   "source": [
    "print(f'Validation loss {vgg_val_eval_02[0]}')\n",
    "print(f'Validation accuracy {vgg_val_eval_02[1]}')\n",
    "print(f'Testing loss {vgg_test_eval_02[0]}')\n",
    "print(f'Testing accuracy {vgg_test_eval_02[1]}')"
   ]
  },
  {
   "cell_type": "code",
   "execution_count": 73,
   "id": "8093a959-2dba-4578-9452-a18611fbc5ac",
   "metadata": {
    "collapsed": true,
    "jupyter": {
     "outputs_hidden": true
    },
    "tags": []
   },
   "outputs": [],
   "source": [
    "#Unfreezing entire network"
   ]
  },
  {
   "cell_type": "code",
   "execution_count": 74,
   "id": "6d995d77-6ce5-4eb3-9c7b-afb1ce364d54",
   "metadata": {
    "collapsed": true,
    "jupyter": {
     "outputs_hidden": true
    },
    "tags": []
   },
   "outputs": [
    {
     "name": "stdout",
     "output_type": "stream",
     "text": [
      "Model: \"model_4\"\n",
      "_________________________________________________________________\n",
      " Layer (type)                Output Shape              Param #   \n",
      "=================================================================\n",
      " input_6 (InputLayer)        [(None, 240, 240, 3)]     0         \n",
      "                                                                 \n",
      " block1_conv1 (Conv2D)       (None, 240, 240, 64)      1792      \n",
      "                                                                 \n",
      " block1_conv2 (Conv2D)       (None, 240, 240, 64)      36928     \n",
      "                                                                 \n",
      " block1_pool (MaxPooling2D)  (None, 120, 120, 64)      0         \n",
      "                                                                 \n",
      " block2_conv1 (Conv2D)       (None, 120, 120, 128)     73856     \n",
      "                                                                 \n",
      " block2_conv2 (Conv2D)       (None, 120, 120, 128)     147584    \n",
      "                                                                 \n",
      " block2_pool (MaxPooling2D)  (None, 60, 60, 128)       0         \n",
      "                                                                 \n",
      " block3_conv1 (Conv2D)       (None, 60, 60, 256)       295168    \n",
      "                                                                 \n",
      " block3_conv2 (Conv2D)       (None, 60, 60, 256)       590080    \n",
      "                                                                 \n",
      " block3_conv3 (Conv2D)       (None, 60, 60, 256)       590080    \n",
      "                                                                 \n",
      " block3_conv4 (Conv2D)       (None, 60, 60, 256)       590080    \n",
      "                                                                 \n",
      " block3_pool (MaxPooling2D)  (None, 30, 30, 256)       0         \n",
      "                                                                 \n",
      " block4_conv1 (Conv2D)       (None, 30, 30, 512)       1180160   \n",
      "                                                                 \n",
      " block4_conv2 (Conv2D)       (None, 30, 30, 512)       2359808   \n",
      "                                                                 \n",
      " block4_conv3 (Conv2D)       (None, 30, 30, 512)       2359808   \n",
      "                                                                 \n",
      " block4_conv4 (Conv2D)       (None, 30, 30, 512)       2359808   \n",
      "                                                                 \n",
      " block4_pool (MaxPooling2D)  (None, 15, 15, 512)       0         \n",
      "                                                                 \n",
      " block5_conv1 (Conv2D)       (None, 15, 15, 512)       2359808   \n",
      "                                                                 \n",
      " block5_conv2 (Conv2D)       (None, 15, 15, 512)       2359808   \n",
      "                                                                 \n",
      " block5_conv3 (Conv2D)       (None, 15, 15, 512)       2359808   \n",
      "                                                                 \n",
      " block5_conv4 (Conv2D)       (None, 15, 15, 512)       2359808   \n",
      "                                                                 \n",
      " block5_pool (MaxPooling2D)  (None, 7, 7, 512)         0         \n",
      "                                                                 \n",
      " flatten_4 (Flatten)         (None, 25088)             0         \n",
      "                                                                 \n",
      " dense_12 (Dense)            (None, 4608)              115610112 \n",
      "                                                                 \n",
      " dropout_4 (Dropout)         (None, 4608)              0         \n",
      "                                                                 \n",
      " dense_13 (Dense)            (None, 1152)              5309568   \n",
      "                                                                 \n",
      " dense_14 (Dense)            (None, 2)                 2306      \n",
      "                                                                 \n",
      "=================================================================\n",
      "Total params: 140946370 (537.67 MB)\n",
      "Trainable params: 140946370 (537.67 MB)\n",
      "Non-trainable params: 0 (0.00 Byte)\n",
      "_________________________________________________________________\n"
     ]
    }
   ],
   "source": [
    "base_model=VGG19(include_top=False, input_shape=(240,240,3))\n",
    "base_model_layer_name=[layer.name for layer in base_model.layers]\n",
    "base_model_layer_name\n",
    "\n",
    "\n",
    "x=base_model.output\n",
    "flat=Flatten()(x)\n",
    "\n",
    "class_1=Dense(4608,activation='relu')(flat)\n",
    "drop_out=Dropout(0.2)(class_1)\n",
    "class_2=Dense(1152,activation='relu')(drop_out)\n",
    "output=Dense(2,activation='softmax')(class_2)\n",
    "\n",
    "model_03=Model(base_model.input,output)\n",
    "model_03.load_weights('model_weights/vgg19_model_02.h5')\n",
    "\n",
    "model_03.summary()"
   ]
  },
  {
   "cell_type": "code",
   "execution_count": 75,
   "id": "0863a7ca-08ae-431d-b506-a73a9228d732",
   "metadata": {
    "collapsed": true,
    "jupyter": {
     "outputs_hidden": true
    },
    "tags": []
   },
   "outputs": [
    {
     "name": "stdout",
     "output_type": "stream",
     "text": [
      "Epoch 1/20\n",
      "10/10 [==============================] - ETA: 0s - loss: 1.6988 - accuracy: 0.4573\n",
      "Epoch 1: val_loss did not improve from 0.35207\n",
      "10/10 [==============================] - 110s 11s/step - loss: 1.6988 - accuracy: 0.4573 - val_loss: 0.6926 - val_accuracy: 0.5275 - lr: 1.0000e-04\n",
      "Epoch 2/20\n",
      "10/10 [==============================] - ETA: 0s - loss: 0.7046 - accuracy: 0.5437\n",
      "Epoch 2: val_loss did not improve from 0.35207\n",
      "10/10 [==============================] - 113s 12s/step - loss: 0.7046 - accuracy: 0.5437 - val_loss: 0.6931 - val_accuracy: 0.5275 - lr: 1.0000e-04\n",
      "Epoch 3/20\n",
      "10/10 [==============================] - ETA: 0s - loss: 0.6906 - accuracy: 0.5938\n",
      "Epoch 3: val_loss did not improve from 0.35207\n",
      "10/10 [==============================] - 112s 11s/step - loss: 0.6906 - accuracy: 0.5938 - val_loss: 0.6921 - val_accuracy: 0.5275 - lr: 1.0000e-04\n",
      "Epoch 4/20\n",
      "10/10 [==============================] - ETA: 0s - loss: 0.6941 - accuracy: 0.5219\n",
      "Epoch 4: val_loss did not improve from 0.35207\n",
      "10/10 [==============================] - 110s 11s/step - loss: 0.6941 - accuracy: 0.5219 - val_loss: 0.6928 - val_accuracy: 0.5275 - lr: 1.0000e-04\n",
      "Epoch 5/20\n",
      "10/10 [==============================] - ETA: 0s - loss: 0.6930 - accuracy: 0.5154\n",
      "Epoch 5: val_loss did not improve from 0.35207\n",
      "10/10 [==============================] - 104s 11s/step - loss: 0.6930 - accuracy: 0.5154 - val_loss: 0.6929 - val_accuracy: 0.5275 - lr: 1.0000e-04\n",
      "Epoch 6/20\n",
      "10/10 [==============================] - ETA: 0s - loss: 0.6927 - accuracy: 0.5469\n",
      "Epoch 6: val_loss did not improve from 0.35207\n",
      "10/10 [==============================] - 112s 12s/step - loss: 0.6927 - accuracy: 0.5469 - val_loss: 0.6928 - val_accuracy: 0.5275 - lr: 1.0000e-04\n",
      "Epoch 7/20\n",
      "10/10 [==============================] - ETA: 0s - loss: 0.6922 - accuracy: 0.5562\n",
      "Epoch 7: val_loss did not improve from 0.35207\n",
      "10/10 [==============================] - 119s 12s/step - loss: 0.6922 - accuracy: 0.5562 - val_loss: 0.6925 - val_accuracy: 0.5275 - lr: 1.0000e-04\n",
      "Epoch 7: early stopping\n"
     ]
    }
   ],
   "source": [
    "from keras.optimizers import Adam\n",
    "\n",
    "adam = Adam(learning_rate=0.0001)\n",
    "model_03.compile(loss='categorical_crossentropy', optimizer=adam, metrics=['accuracy'])\n",
    "history_03=model_03.fit(train_generator,steps_per_epoch=10,epochs=20,callbacks=[es,cp,lrr],validation_data=valid_generator)"
   ]
  },
  {
   "cell_type": "code",
   "execution_count": 76,
   "id": "19d9cdf0-61e9-477c-8630-3a21e656b5cd",
   "metadata": {
    "collapsed": true,
    "jupyter": {
     "outputs_hidden": true
    },
    "tags": []
   },
   "outputs": [],
   "source": [
    "if not os.path.isdir('model_weights/'):\n",
    "    os.mkdir('model_weights/')\n",
    "model_01.save_weights(filepath=\"model_weights/vgg_unfrozen.h5\",overwrite=True)"
   ]
  },
  {
   "cell_type": "code",
   "execution_count": 77,
   "id": "ca5707cb-1e77-4020-a4cb-3d891b460346",
   "metadata": {
    "collapsed": true,
    "jupyter": {
     "outputs_hidden": true
    },
    "tags": []
   },
   "outputs": [
    {
     "name": "stdout",
     "output_type": "stream",
     "text": [
      "10/10 [==============================] - 28s 3s/step - loss: 0.8351 - accuracy: 0.5275\n",
      "10/10 [==============================] - 27s 3s/step - loss: 0.8294 - accuracy: 0.5258\n"
     ]
    }
   ],
   "source": [
    "model_03.load_weights(\"model_weights/vgg_unfrozen.h5\")\n",
    "vgg_val_eval_03=model_03.evaluate(valid_generator)\n",
    "vgg_test_eval_03=model_03.evaluate(test_generator)"
   ]
  },
  {
   "cell_type": "code",
   "execution_count": 78,
   "id": "53a2ebab-e632-4e3d-9c41-4501b920b9b3",
   "metadata": {
    "collapsed": true,
    "jupyter": {
     "outputs_hidden": true
    },
    "tags": []
   },
   "outputs": [
    {
     "name": "stdout",
     "output_type": "stream",
     "text": [
      "Validation loss 0.835060179233551\n",
      "Validation accuracy 0.5275080800056458\n",
      "Testing loss 0.8293725848197937\n",
      "Testing accuracy 0.5258064270019531\n"
     ]
    }
   ],
   "source": [
    "print(f'Validation loss {vgg_val_eval_03[0]}')\n",
    "print(f'Validation accuracy {vgg_val_eval_03[1]}')\n",
    "print(f'Testing loss {vgg_test_eval_03[0]}')\n",
    "print(f'Testing accuracy {vgg_test_eval_03[1]}')"
   ]
  },
  {
   "cell_type": "code",
   "execution_count": 79,
   "id": "325fd1a9-bece-4563-9484-c8c945e601cb",
   "metadata": {
    "collapsed": true,
    "jupyter": {
     "outputs_hidden": true
    },
    "tags": []
   },
   "outputs": [
    {
     "name": "stdout",
     "output_type": "stream",
     "text": [
      " 10/310 [..............................] - ETA: 12:55WARNING:tensorflow:Your input ran out of data; interrupting training. Make sure that your dataset or generator can generate at least `steps_per_epoch * epochs` batches (in this case, 310 batches). You may need to use the repeat() function when building your dataset.\n"
     ]
    },
    {
     "name": "stderr",
     "output_type": "stream",
     "text": [
      "WARNING:tensorflow:Your input ran out of data; interrupting training. Make sure that your dataset or generator can generate at least `steps_per_epoch * epochs` batches (in this case, 310 batches). You may need to use the repeat() function when building your dataset.\n"
     ]
    },
    {
     "name": "stdout",
     "output_type": "stream",
     "text": [
      "310/310 [==============================] - 28s 75ms/step\n"
     ]
    }
   ],
   "source": [
    "filenames=test_generator.filenames\n",
    "nb_samples=len(filenames)\n",
    "\n",
    "vgg_prediction_03=model_03.predict(test_generator,steps=nb_samples,verbose=1)\n",
    "y_pred=np.argmax(vgg_prediction_03,axis=1)"
   ]
  },
  {
   "cell_type": "code",
   "execution_count": null,
   "id": "c678c804-2c60-4839-8608-83da65ad20ff",
   "metadata": {
    "collapsed": true,
    "jupyter": {
     "outputs_hidden": true
    }
   },
   "outputs": [],
   "source": []
  }
 ],
 "metadata": {
  "kernelspec": {
   "display_name": "Python 3 (ipykernel)",
   "language": "python",
   "name": "python3"
  },
  "language_info": {
   "codemirror_mode": {
    "name": "ipython",
    "version": 3
   },
   "file_extension": ".py",
   "mimetype": "text/x-python",
   "name": "python",
   "nbconvert_exporter": "python",
   "pygments_lexer": "ipython3",
   "version": "3.11.4"
  }
 },
 "nbformat": 4,
 "nbformat_minor": 5
}
